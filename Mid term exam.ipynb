{
 "cells": [
  {
   "cell_type": "code",
   "execution_count": 117,
   "id": "8713c23f-b3f4-4d4e-8702-9a813320f7da",
   "metadata": {
    "tags": []
   },
   "outputs": [],
   "source": [
    "import os\n",
    "import pandas as pd\n",
    "import numpy as np\n",
    "import datetime\n",
    "import matplotlib.pyplot as plt"
   ]
  },
  {
   "cell_type": "code",
   "execution_count": 8,
   "id": "5b1a623c-1641-4913-a006-8a4720bae5db",
   "metadata": {
    "tags": []
   },
   "outputs": [],
   "source": [
    "CHTR = pd.read_csv(\"CHTR.csv\")\n",
    "CPRT = pd.read_csv(\"CPRT.csv\")\n",
    "LIN = pd.read_csv(\"LIN.csv\")\n",
    "VNO = pd.read_csv(\"VNO.csv\")"
   ]
  },
  {
   "cell_type": "code",
   "execution_count": 72,
   "id": "bd43969e-91b0-454f-ab1e-9ee2b8a3d30a",
   "metadata": {
    "tags": []
   },
   "outputs": [],
   "source": [
    "CHTR['Date'] = pd.to_datetime(CHTR['Date'])\n",
    "CPRT['Date'] = pd.to_datetime(CPRT['Date'])\n",
    "LIN['Date'] = pd.to_datetime(LIN['Date'])\n",
    "VNO['Date'] = pd.to_datetime(VNO['Date'])"
   ]
  },
  {
   "cell_type": "code",
   "execution_count": 73,
   "id": "43199f3e-cf0b-4a02-aa05-4e3f4845566a",
   "metadata": {
    "tags": []
   },
   "outputs": [],
   "source": [
    "CHTR['Company'] = 'CHTR'\n",
    "CPRT['Company'] = 'CPRT'\n",
    "LIN['Company'] = 'LIN'\n",
    "VNO['Company'] = 'VNO'"
   ]
  },
  {
   "cell_type": "code",
   "execution_count": 74,
   "id": "eab79b98-3673-444f-81c5-13742a833e24",
   "metadata": {
    "tags": []
   },
   "outputs": [],
   "source": [
    "DF_base = pd.concat([CHTR, CPRT, LIN, VNO])"
   ]
  },
  {
   "cell_type": "code",
   "execution_count": 75,
   "id": "524f4167-a59c-462a-8826-99d75ffc6cb6",
   "metadata": {
    "tags": []
   },
   "outputs": [],
   "source": [
    "DF = DF_base.copy()"
   ]
  },
  {
   "cell_type": "code",
   "execution_count": 76,
   "id": "f8664dbc-587d-496e-8652-2459dbf8b405",
   "metadata": {
    "tags": []
   },
   "outputs": [
    {
     "data": {
      "text/plain": [
       "Company\n",
       "LIN    1020\n",
       "VNO    1059\n",
       "Name: Close, dtype: int64"
      ]
     },
     "execution_count": 76,
     "metadata": {},
     "output_type": "execute_result"
    }
   ],
   "source": [
    "#1.\n",
    "DF[DF['Close'] != DF ['Adj Close']][['Company', 'Close', 'Adj Close']].groupby(['Company']).count().iloc[:, 0]"
   ]
  },
  {
   "cell_type": "markdown",
   "id": "96b72348-ce6b-4364-8e36-5dc93a5c1713",
   "metadata": {},
   "source": [
    "Yes, LIN and VNO companies doesn't have same exactly same values for the Close and Adj Close columns. Indeed, this means that those companies in a certai date incorporated actions, such as stock splits, dividends, and rights offerings"
   ]
  },
  {
   "cell_type": "code",
   "execution_count": 77,
   "id": "9327cc7d-bd0d-4aa8-a145-fdb6da0dd5ff",
   "metadata": {
    "tags": []
   },
   "outputs": [
    {
     "data": {
      "text/html": [
       "<div>\n",
       "<style scoped>\n",
       "    .dataframe tbody tr th:only-of-type {\n",
       "        vertical-align: middle;\n",
       "    }\n",
       "\n",
       "    .dataframe tbody tr th {\n",
       "        vertical-align: top;\n",
       "    }\n",
       "\n",
       "    .dataframe thead th {\n",
       "        text-align: right;\n",
       "    }\n",
       "</style>\n",
       "<table border=\"1\" class=\"dataframe\">\n",
       "  <thead>\n",
       "    <tr style=\"text-align: right;\">\n",
       "      <th></th>\n",
       "      <th>Adj Close</th>\n",
       "    </tr>\n",
       "    <tr>\n",
       "      <th>Company</th>\n",
       "      <th></th>\n",
       "    </tr>\n",
       "  </thead>\n",
       "  <tbody>\n",
       "    <tr>\n",
       "      <th>CHTR</th>\n",
       "      <td>821.010010</td>\n",
       "    </tr>\n",
       "    <tr>\n",
       "      <th>CPRT</th>\n",
       "      <td>79.550003</td>\n",
       "    </tr>\n",
       "    <tr>\n",
       "      <th>LIN</th>\n",
       "      <td>346.429993</td>\n",
       "    </tr>\n",
       "    <tr>\n",
       "      <th>VNO</th>\n",
       "      <td>63.303398</td>\n",
       "    </tr>\n",
       "  </tbody>\n",
       "</table>\n",
       "</div>"
      ],
      "text/plain": [
       "          Adj Close\n",
       "Company            \n",
       "CHTR     821.010010\n",
       "CPRT      79.550003\n",
       "LIN      346.429993\n",
       "VNO       63.303398"
      ]
     },
     "execution_count": 77,
     "metadata": {},
     "output_type": "execute_result"
    }
   ],
   "source": [
    "#2. Max value\n",
    "DF[['Company', 'Adj Close']].groupby(['Company']).max()"
   ]
  },
  {
   "cell_type": "code",
   "execution_count": 78,
   "id": "937dc125-c517-4658-a2b0-694c2605c050",
   "metadata": {
    "tags": []
   },
   "outputs": [
    {
     "data": {
      "text/html": [
       "<div>\n",
       "<style scoped>\n",
       "    .dataframe tbody tr th:only-of-type {\n",
       "        vertical-align: middle;\n",
       "    }\n",
       "\n",
       "    .dataframe tbody tr th {\n",
       "        vertical-align: top;\n",
       "    }\n",
       "\n",
       "    .dataframe thead th {\n",
       "        text-align: right;\n",
       "    }\n",
       "</style>\n",
       "<table border=\"1\" class=\"dataframe\">\n",
       "  <thead>\n",
       "    <tr style=\"text-align: right;\">\n",
       "      <th></th>\n",
       "      <th>Adj Close</th>\n",
       "    </tr>\n",
       "    <tr>\n",
       "      <th>Company</th>\n",
       "      <th></th>\n",
       "    </tr>\n",
       "  </thead>\n",
       "  <tbody>\n",
       "    <tr>\n",
       "      <th>CHTR</th>\n",
       "      <td>261.040009</td>\n",
       "    </tr>\n",
       "    <tr>\n",
       "      <th>CPRT</th>\n",
       "      <td>17.775000</td>\n",
       "    </tr>\n",
       "    <tr>\n",
       "      <th>LIN</th>\n",
       "      <td>133.050629</td>\n",
       "    </tr>\n",
       "    <tr>\n",
       "      <th>VNO</th>\n",
       "      <td>21.090000</td>\n",
       "    </tr>\n",
       "  </tbody>\n",
       "</table>\n",
       "</div>"
      ],
      "text/plain": [
       "          Adj Close\n",
       "Company            \n",
       "CHTR     261.040009\n",
       "CPRT      17.775000\n",
       "LIN      133.050629\n",
       "VNO       21.090000"
      ]
     },
     "execution_count": 78,
     "metadata": {},
     "output_type": "execute_result"
    }
   ],
   "source": [
    "#2. Min value\n",
    "DF[['Company', 'Adj Close']].groupby(['Company']).min()"
   ]
  },
  {
   "cell_type": "code",
   "execution_count": 79,
   "id": "b5efa2d6-8ffe-4ba5-ae31-2576ba192e7b",
   "metadata": {
    "tags": []
   },
   "outputs": [
    {
     "data": {
      "text/html": [
       "<div>\n",
       "<style scoped>\n",
       "    .dataframe tbody tr th:only-of-type {\n",
       "        vertical-align: middle;\n",
       "    }\n",
       "\n",
       "    .dataframe tbody tr th {\n",
       "        vertical-align: top;\n",
       "    }\n",
       "\n",
       "    .dataframe thead tr th {\n",
       "        text-align: left;\n",
       "    }\n",
       "\n",
       "    .dataframe thead tr:last-of-type th {\n",
       "        text-align: right;\n",
       "    }\n",
       "</style>\n",
       "<table border=\"1\" class=\"dataframe\">\n",
       "  <thead>\n",
       "    <tr>\n",
       "      <th></th>\n",
       "      <th colspan=\"4\" halign=\"left\">ln Adj Close</th>\n",
       "    </tr>\n",
       "    <tr>\n",
       "      <th></th>\n",
       "      <th>min</th>\n",
       "      <th>max</th>\n",
       "      <th>mean</th>\n",
       "      <th>50%</th>\n",
       "    </tr>\n",
       "    <tr>\n",
       "      <th>Company</th>\n",
       "      <th></th>\n",
       "      <th></th>\n",
       "      <th></th>\n",
       "      <th></th>\n",
       "    </tr>\n",
       "  </thead>\n",
       "  <tbody>\n",
       "    <tr>\n",
       "      <th>CHTR</th>\n",
       "      <td>5.564674</td>\n",
       "      <td>6.710535</td>\n",
       "      <td>6.131390</td>\n",
       "      <td>6.149600</td>\n",
       "    </tr>\n",
       "    <tr>\n",
       "      <th>CPRT</th>\n",
       "      <td>2.877793</td>\n",
       "      <td>4.376386</td>\n",
       "      <td>3.762038</td>\n",
       "      <td>3.806162</td>\n",
       "    </tr>\n",
       "    <tr>\n",
       "      <th>LIN</th>\n",
       "      <td>4.890730</td>\n",
       "      <td>5.847681</td>\n",
       "      <td>5.366105</td>\n",
       "      <td>5.323907</td>\n",
       "    </tr>\n",
       "    <tr>\n",
       "      <th>VNO</th>\n",
       "      <td>3.048799</td>\n",
       "      <td>4.147939</td>\n",
       "      <td>3.795781</td>\n",
       "      <td>3.813133</td>\n",
       "    </tr>\n",
       "  </tbody>\n",
       "</table>\n",
       "</div>"
      ],
      "text/plain": [
       "        ln Adj Close                              \n",
       "                 min       max      mean       50%\n",
       "Company                                           \n",
       "CHTR        5.564674  6.710535  6.131390  6.149600\n",
       "CPRT        2.877793  4.376386  3.762038  3.806162\n",
       "LIN         4.890730  5.847681  5.366105  5.323907\n",
       "VNO         3.048799  4.147939  3.795781  3.813133"
      ]
     },
     "execution_count": 79,
     "metadata": {},
     "output_type": "execute_result"
    }
   ],
   "source": [
    "#3. Descriptive\n",
    "DF['ln Adj Close'] = DF['Adj Close'].apply(lambda x: np.log(x))\n",
    "DF[['Company', 'ln Adj Close']].groupby(['Company']).describe().iloc[:, [3, 7, 1, 5]]"
   ]
  },
  {
   "cell_type": "code",
   "execution_count": 100,
   "id": "2491a952-5d38-44f0-8093-2dfc86e03689",
   "metadata": {
    "tags": []
   },
   "outputs": [
    {
     "data": {
      "text/html": [
       "<div>\n",
       "<style scoped>\n",
       "    .dataframe tbody tr th:only-of-type {\n",
       "        vertical-align: middle;\n",
       "    }\n",
       "\n",
       "    .dataframe tbody tr th {\n",
       "        vertical-align: top;\n",
       "    }\n",
       "\n",
       "    .dataframe thead th {\n",
       "        text-align: right;\n",
       "    }\n",
       "</style>\n",
       "<table border=\"1\" class=\"dataframe\">\n",
       "  <thead>\n",
       "    <tr style=\"text-align: right;\">\n",
       "      <th></th>\n",
       "      <th>Date</th>\n",
       "      <th>High</th>\n",
       "      <th>Low</th>\n",
       "      <th>Open</th>\n",
       "      <th>Close</th>\n",
       "      <th>Volume</th>\n",
       "      <th>Adj Close</th>\n",
       "      <th>Company</th>\n",
       "      <th>ln Adj Close</th>\n",
       "      <th>Week number</th>\n",
       "    </tr>\n",
       "  </thead>\n",
       "  <tbody>\n",
       "    <tr>\n",
       "      <th>0</th>\n",
       "      <td>2017-11-13</td>\n",
       "      <td>343.910004</td>\n",
       "      <td>337.070007</td>\n",
       "      <td>338.500000</td>\n",
       "      <td>343.720001</td>\n",
       "      <td>908700.0</td>\n",
       "      <td>343.720001</td>\n",
       "      <td>CHTR</td>\n",
       "      <td>5.839827</td>\n",
       "      <td>46</td>\n",
       "    </tr>\n",
       "    <tr>\n",
       "      <th>1</th>\n",
       "      <td>2017-11-14</td>\n",
       "      <td>344.000000</td>\n",
       "      <td>333.970001</td>\n",
       "      <td>341.299988</td>\n",
       "      <td>336.809998</td>\n",
       "      <td>1452300.0</td>\n",
       "      <td>336.809998</td>\n",
       "      <td>CHTR</td>\n",
       "      <td>5.819519</td>\n",
       "      <td>46</td>\n",
       "    </tr>\n",
       "    <tr>\n",
       "      <th>2</th>\n",
       "      <td>2017-11-15</td>\n",
       "      <td>337.660004</td>\n",
       "      <td>330.500000</td>\n",
       "      <td>337.329987</td>\n",
       "      <td>334.220001</td>\n",
       "      <td>1937500.0</td>\n",
       "      <td>334.220001</td>\n",
       "      <td>CHTR</td>\n",
       "      <td>5.811799</td>\n",
       "      <td>46</td>\n",
       "    </tr>\n",
       "    <tr>\n",
       "      <th>3</th>\n",
       "      <td>2017-11-16</td>\n",
       "      <td>340.920013</td>\n",
       "      <td>328.500000</td>\n",
       "      <td>333.940002</td>\n",
       "      <td>340.630005</td>\n",
       "      <td>1513200.0</td>\n",
       "      <td>340.630005</td>\n",
       "      <td>CHTR</td>\n",
       "      <td>5.830797</td>\n",
       "      <td>46</td>\n",
       "    </tr>\n",
       "    <tr>\n",
       "      <th>4</th>\n",
       "      <td>2017-11-17</td>\n",
       "      <td>349.540009</td>\n",
       "      <td>338.959991</td>\n",
       "      <td>341.380005</td>\n",
       "      <td>341.540009</td>\n",
       "      <td>1250500.0</td>\n",
       "      <td>341.540009</td>\n",
       "      <td>CHTR</td>\n",
       "      <td>5.833465</td>\n",
       "      <td>46</td>\n",
       "    </tr>\n",
       "  </tbody>\n",
       "</table>\n",
       "</div>"
      ],
      "text/plain": [
       "        Date        High         Low        Open       Close     Volume  \\\n",
       "0 2017-11-13  343.910004  337.070007  338.500000  343.720001   908700.0   \n",
       "1 2017-11-14  344.000000  333.970001  341.299988  336.809998  1452300.0   \n",
       "2 2017-11-15  337.660004  330.500000  337.329987  334.220001  1937500.0   \n",
       "3 2017-11-16  340.920013  328.500000  333.940002  340.630005  1513200.0   \n",
       "4 2017-11-17  349.540009  338.959991  341.380005  341.540009  1250500.0   \n",
       "\n",
       "    Adj Close Company  ln Adj Close Week number  \n",
       "0  343.720001    CHTR      5.839827          46  \n",
       "1  336.809998    CHTR      5.819519          46  \n",
       "2  334.220001    CHTR      5.811799          46  \n",
       "3  340.630005    CHTR      5.830797          46  \n",
       "4  341.540009    CHTR      5.833465          46  "
      ]
     },
     "execution_count": 100,
     "metadata": {},
     "output_type": "execute_result"
    }
   ],
   "source": [
    "DF.head()"
   ]
  },
  {
   "cell_type": "code",
   "execution_count": 107,
   "id": "3efb7a5e-578d-4b94-a6e0-1270984123b8",
   "metadata": {
    "tags": []
   },
   "outputs": [],
   "source": [
    "#4. Highest and lowest gain\n",
    "DF[\"Gain\"] = DF[\"Close\"] - DF[\"Open\"]  \n",
    "highest_point = DF[['Company', 'Gain']].groupby(['Company']).max().reset_index()\n",
    "lowest_point = DF[['Company', 'Gain']].groupby(['Company']).min().reset_index()"
   ]
  },
  {
   "cell_type": "code",
   "execution_count": 108,
   "id": "91aef265-238d-43df-87fc-146922ca93b3",
   "metadata": {
    "tags": []
   },
   "outputs": [
    {
     "data": {
      "text/html": [
       "<div>\n",
       "<style scoped>\n",
       "    .dataframe tbody tr th:only-of-type {\n",
       "        vertical-align: middle;\n",
       "    }\n",
       "\n",
       "    .dataframe tbody tr th {\n",
       "        vertical-align: top;\n",
       "    }\n",
       "\n",
       "    .dataframe thead th {\n",
       "        text-align: right;\n",
       "    }\n",
       "</style>\n",
       "<table border=\"1\" class=\"dataframe\">\n",
       "  <thead>\n",
       "    <tr style=\"text-align: right;\">\n",
       "      <th></th>\n",
       "      <th>Date</th>\n",
       "      <th>Gain</th>\n",
       "    </tr>\n",
       "    <tr>\n",
       "      <th>Company</th>\n",
       "      <th></th>\n",
       "      <th></th>\n",
       "    </tr>\n",
       "  </thead>\n",
       "  <tbody>\n",
       "    <tr>\n",
       "      <th>CHTR</th>\n",
       "      <td>2021-12-02</td>\n",
       "      <td>31.130005</td>\n",
       "    </tr>\n",
       "    <tr>\n",
       "      <th>CPRT</th>\n",
       "      <td>2020-03-24</td>\n",
       "      <td>3.590002</td>\n",
       "    </tr>\n",
       "    <tr>\n",
       "      <th>LIN</th>\n",
       "      <td>2022-10-13</td>\n",
       "      <td>15.479980</td>\n",
       "    </tr>\n",
       "    <tr>\n",
       "      <th>VNO</th>\n",
       "      <td>2021-02-22</td>\n",
       "      <td>3.230000</td>\n",
       "    </tr>\n",
       "  </tbody>\n",
       "</table>\n",
       "</div>"
      ],
      "text/plain": [
       "              Date       Gain\n",
       "Company                      \n",
       "CHTR    2021-12-02  31.130005\n",
       "CPRT    2020-03-24   3.590002\n",
       "LIN     2022-10-13  15.479980\n",
       "VNO     2021-02-22   3.230000"
      ]
     },
     "execution_count": 108,
     "metadata": {},
     "output_type": "execute_result"
    }
   ],
   "source": [
    "#Date of highest gain\n",
    "DF[['Date', 'Company', 'Gain']].merge(highest_point).set_index('Company')"
   ]
  },
  {
   "cell_type": "code",
   "execution_count": 109,
   "id": "9cd06727-0672-4773-9e03-911a3c9fd846",
   "metadata": {
    "tags": []
   },
   "outputs": [
    {
     "data": {
      "text/html": [
       "<div>\n",
       "<style scoped>\n",
       "    .dataframe tbody tr th:only-of-type {\n",
       "        vertical-align: middle;\n",
       "    }\n",
       "\n",
       "    .dataframe tbody tr th {\n",
       "        vertical-align: top;\n",
       "    }\n",
       "\n",
       "    .dataframe thead th {\n",
       "        text-align: right;\n",
       "    }\n",
       "</style>\n",
       "<table border=\"1\" class=\"dataframe\">\n",
       "  <thead>\n",
       "    <tr style=\"text-align: right;\">\n",
       "      <th></th>\n",
       "      <th>Date</th>\n",
       "      <th>Company</th>\n",
       "      <th>Gain</th>\n",
       "    </tr>\n",
       "  </thead>\n",
       "  <tbody>\n",
       "    <tr>\n",
       "      <th>0</th>\n",
       "      <td>2020-11-09</td>\n",
       "      <td>CHTR</td>\n",
       "      <td>-46.589966</td>\n",
       "    </tr>\n",
       "    <tr>\n",
       "      <th>1</th>\n",
       "      <td>2020-03-20</td>\n",
       "      <td>CPRT</td>\n",
       "      <td>-5.669998</td>\n",
       "    </tr>\n",
       "    <tr>\n",
       "      <th>2</th>\n",
       "      <td>2022-10-24</td>\n",
       "      <td>LIN</td>\n",
       "      <td>-15.209991</td>\n",
       "    </tr>\n",
       "    <tr>\n",
       "      <th>3</th>\n",
       "      <td>2020-03-16</td>\n",
       "      <td>VNO</td>\n",
       "      <td>-7.520000</td>\n",
       "    </tr>\n",
       "  </tbody>\n",
       "</table>\n",
       "</div>"
      ],
      "text/plain": [
       "        Date Company       Gain\n",
       "0 2020-11-09    CHTR -46.589966\n",
       "1 2020-03-20    CPRT  -5.669998\n",
       "2 2022-10-24     LIN -15.209991\n",
       "3 2020-03-16     VNO  -7.520000"
      ]
     },
     "execution_count": 109,
     "metadata": {},
     "output_type": "execute_result"
    }
   ],
   "source": [
    "#Date of lowest gain\n",
    "DF[['Date', 'Company', 'Gain']].merge(lowest_point)"
   ]
  },
  {
   "cell_type": "code",
   "execution_count": 110,
   "id": "4bb5e57a-ad95-400d-9396-c812fe7c9845",
   "metadata": {
    "tags": []
   },
   "outputs": [
    {
     "data": {
      "text/html": [
       "<div>\n",
       "<style scoped>\n",
       "    .dataframe tbody tr th:only-of-type {\n",
       "        vertical-align: middle;\n",
       "    }\n",
       "\n",
       "    .dataframe tbody tr th {\n",
       "        vertical-align: top;\n",
       "    }\n",
       "\n",
       "    .dataframe thead th {\n",
       "        text-align: right;\n",
       "    }\n",
       "</style>\n",
       "<table border=\"1\" class=\"dataframe\">\n",
       "  <thead>\n",
       "    <tr style=\"text-align: right;\">\n",
       "      <th></th>\n",
       "      <th>Volume</th>\n",
       "    </tr>\n",
       "    <tr>\n",
       "      <th>Company</th>\n",
       "      <th></th>\n",
       "    </tr>\n",
       "  </thead>\n",
       "  <tbody>\n",
       "    <tr>\n",
       "      <th>CHTR</th>\n",
       "      <td>1.284489e+06</td>\n",
       "    </tr>\n",
       "    <tr>\n",
       "      <th>CPRT</th>\n",
       "      <td>2.937660e+06</td>\n",
       "    </tr>\n",
       "    <tr>\n",
       "      <th>LIN</th>\n",
       "      <td>1.959864e+06</td>\n",
       "    </tr>\n",
       "    <tr>\n",
       "      <th>VNO</th>\n",
       "      <td>1.590407e+06</td>\n",
       "    </tr>\n",
       "  </tbody>\n",
       "</table>\n",
       "</div>"
      ],
      "text/plain": [
       "               Volume\n",
       "Company              \n",
       "CHTR     1.284489e+06\n",
       "CPRT     2.937660e+06\n",
       "LIN      1.959864e+06\n",
       "VNO      1.590407e+06"
      ]
     },
     "execution_count": 110,
     "metadata": {},
     "output_type": "execute_result"
    }
   ],
   "source": [
    "#5. Weekly average\n",
    "DF['Week number'] = DF['Date'].apply(lambda x: x.strftime(\"%V\"))\n",
    "DF[['Company', 'Week number', 'Volume']].groupby(['Company', 'Week number']).mean().reset_index()[['Company', 'Volume']].groupby(['Company']).mean()"
   ]
  },
  {
   "cell_type": "code",
   "execution_count": 116,
   "id": "f9692209-c23b-4fd8-9d9f-64d6cdba609a",
   "metadata": {
    "tags": []
   },
   "outputs": [
    {
     "data": {
      "text/html": [
       "<div>\n",
       "<style scoped>\n",
       "    .dataframe tbody tr th:only-of-type {\n",
       "        vertical-align: middle;\n",
       "    }\n",
       "\n",
       "    .dataframe tbody tr th {\n",
       "        vertical-align: top;\n",
       "    }\n",
       "\n",
       "    .dataframe thead th {\n",
       "        text-align: right;\n",
       "    }\n",
       "</style>\n",
       "<table border=\"1\" class=\"dataframe\">\n",
       "  <thead>\n",
       "    <tr style=\"text-align: right;\">\n",
       "      <th></th>\n",
       "      <th>Company</th>\n",
       "      <th>Gain</th>\n",
       "    </tr>\n",
       "  </thead>\n",
       "  <tbody>\n",
       "    <tr>\n",
       "      <th>2</th>\n",
       "      <td>LIN</td>\n",
       "      <td>68.380066</td>\n",
       "    </tr>\n",
       "  </tbody>\n",
       "</table>\n",
       "</div>"
      ],
      "text/plain": [
       "  Company       Gain\n",
       "2     LIN  68.380066"
      ]
     },
     "execution_count": 116,
     "metadata": {},
     "output_type": "execute_result"
    }
   ],
   "source": [
    "#6. Highest return\n",
    "output = DF[['Company', 'Gain']].groupby('Company').sum().reset_index()\n",
    "output[output['Gain'] == output['Gain'].max()]"
   ]
  },
  {
   "cell_type": "code",
   "execution_count": 120,
   "id": "503df6bb-47ad-41d3-ab75-ce677fbcec27",
   "metadata": {
    "tags": []
   },
   "outputs": [
    {
     "data": {
      "image/png": "[encoded data removed]",
      "text/plain": [
       "<Figure size 800x600 with 1 Axes>"
      ]
     },
     "metadata": {},
     "output_type": "display_data"
    }
   ],
   "source": [
    "#7. Plot\n",
    "DF['Returns'] = (DF[\"Close\"] - DF[\"Open\"])/DF[\"Open\"] \n",
    "p_df = DF[['Company', 'Returns']]\n",
    "fig, ax = plt.subplots(figsize=(8,6))\n",
    "bp = p_df.groupby('Company').plot(kind='kde', ax=ax)"
   ]
  }
 ],
 "metadata": {
  "kernelspec": {
   "display_name": "Python 3 (ipykernel)",
   "language": "python",
   "name": "python3"
  },
  "language_info": {
   "codemirror_mode": {
    "name": "ipython",
    "version": 3
   },
   "file_extension": ".py",
   "mimetype": "text/x-python",
   "name": "python",
   "nbconvert_exporter": "python",
   "pygments_lexer": "ipython3",
   "version": "3.11.4"
  }
 },
 "nbformat": 4,
 "nbformat_minor": 5
}
